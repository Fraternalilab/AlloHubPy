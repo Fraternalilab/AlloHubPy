{
 "cells": [
  {
   "cell_type": "code",
   "execution_count": null,
   "id": "b2f26cac",
   "metadata": {
    "tags": []
   },
   "outputs": [],
   "source": [
    "# Basic imports\n",
    "from Allohubpy import SAtraj\n",
    "from Allohubpy import Overlap\n",
    "from Allohubpy import SANetwork\n",
    "from Allohubpy.plotter import Allohub_plots\n",
    "from Allohubpy import SAPLM\n",
    "import numpy as np\n",
    "from scipy.stats import ttest_ind\n",
    "from statsmodels.stats.multitest import multipletests"
   ]
  },
  {
   "cell_type": "code",
   "execution_count": null,
   "id": "3b53643d",
   "metadata": {
    "tags": []
   },
   "outputs": [],
   "source": [
    "# Utility functions to store results\n",
    "def save_array_to_txt(array, filename, delimiter=',', fmt='%.18e'):\n",
    "    \"\"\"\n",
    "    Saves a NumPy array to a text file.\n",
    "\n",
    "    Parameters:\n",
    "        array (numpy.ndarray): The NumPy array to save.\n",
    "        filename (str): The path to the output text file.\n",
    "        delimiter (str): The string used to separate values (default is ',').\n",
    "        fmt (str): Format for each element in the array (default is '%.18e' for scientific notation).\n",
    "    \"\"\"\n",
    "    try:\n",
    "        np.savetxt(filename, array, delimiter=delimiter, fmt=fmt)\n",
    "        print(f\"Array saved successfully to {filename}\")\n",
    "    except Exception as e:\n",
    "        print(f\"Error saving array: {e}\")"
   ]
  },
  {
   "cell_type": "markdown",
   "id": "d1ba3b6f",
   "metadata": {},
   "source": [
    "# Analysis of the allosteric signal of PKM2 induced by FBP \n",
    "\n",
    "The Structural Alphabet handler is initialized and the data is loaded.\n",
    "The package comes by default with the *M32K25* and *3DI* alphabets, but other alphabets may be provided as input."
   ]
  },
  {
   "cell_type": "code",
   "execution_count": null,
   "id": "4c2b1347-860d-4994-8cc3-ea430d2a5426",
   "metadata": {},
   "outputs": [],
   "source": [
    "# Initialize Structural Alphabet trajectory handler\n",
    "print(\"Initialize Structural Alphabet trajectory handler\")\n",
    "\n",
    "# Set seeds for reproducibility\n",
    "seed = 42  # Replace with any integer\n",
    "import random\n",
    "np.random.seed(seed)\n",
    "random.seed(seed)\n",
    "\n",
    "sa_traj_apo1 = SAtraj.SAtraj(block_size=100, alphabet=SAtraj.ALPHABETS[\"M32K25\"])\n",
    "sa_traj_apo2 = SAtraj.SAtraj(block_size=100, alphabet=SAtraj.ALPHABETS[\"M32K25\"])\n",
    "sa_traj_apo3 = SAtraj.SAtraj(block_size=100, alphabet=SAtraj.ALPHABETS[\"M32K25\"])\n",
    "\n",
    "sa_traj_fbp1 = SAtraj.SAtraj(block_size=100, alphabet=SAtraj.ALPHABETS[\"M32K25\"])\n",
    "sa_traj_fbp2 = SAtraj.SAtraj(block_size=100, alphabet=SAtraj.ALPHABETS[\"M32K25\"])\n",
    "sa_traj_fbp3 = SAtraj.SAtraj(block_size=100, alphabet=SAtraj.ALPHABETS[\"M32K25\"])\n",
    "\n",
    "# Load encoded data into the model\n",
    "print(\"Load encoded data into the model\")\n",
    "\n",
    "sa_traj_apo1.load_data(\"data_pkm2/apo_repl1_c1short.sa\")\n",
    "sa_traj_apo2.load_data(\"data_pkm2/apo_repl2_c1short.sa\")\n",
    "sa_traj_apo3.load_data(\"data_pkm2/apo_repl3_c1short.sa\")\n",
    "\n",
    "sa_traj_fbp1.load_data(\"data_pkm2/fbp_repl1_c1short.sa\")\n",
    "sa_traj_fbp2.load_data(\"data_pkm2/fbp_repl2_c1short.sa\")\n",
    "sa_traj_fbp3.load_data(\"data_pkm2/fbp_repl3_c1short.sa\")"
   ]
  },
  {
   "cell_type": "markdown",
   "id": "36b1a308",
   "metadata": {},
   "source": [
    "## Examination of encoded trajectories\n",
    "\n",
    "One can examine the encoded structure string as well as all other analysis using the provided plotting functions.\n",
    "\n",
    "Alternatively, one can addapt the provided plotting functions for other applications.\n",
    "All plotting functions are located in the file *Allohub_plots.py*.\n",
    "\n",
    "To display the plots, the argument *action = \"show\"* should be used, while for saving to a file it should be *action = \"save\"*.\n",
    "\n",
    "If the *save* option is provided, the file name can be specified with *name = \"my_name.png\"*.\n",
    "The format of the image will depend on the format specified in the file name (extension).\n",
    "\n",
    "Since the simulated PKM2 structure is lacking the first 12 residues and the fragments are indexed at 0, one needs to add 13 to the fragment index to map fragments back to their cognate structure location."
   ]
  },
  {
   "cell_type": "code",
   "execution_count": null,
   "id": "7895822e-680c-42ce-b549-1edb140e0ce1",
   "metadata": {
    "tags": []
   },
   "outputs": [],
   "source": [
    "# Plot the randomized trajectory of the Structural Alphabet trajectory of Apo repl1\n",
    "Allohub_plots.plot_SA_traj(sa_traj_apo1.get_int_traj(), SAtraj.ALPHABETS[\"M32K25\"], action=\"show\")"
   ]
  },
  {
   "cell_type": "code",
   "execution_count": null,
   "id": "2f8bc17a-2b6c-4a37-9dd9-6b9beb9fdb9a",
   "metadata": {
    "tags": []
   },
   "outputs": [],
   "source": [
    "# Plot the randomized trajectory of the Structural Alphabet  trajectory of Fbp repl1\n",
    "Allohub_plots.plot_SA_traj(sa_traj_fbp1.get_int_traj(), SAtraj.ALPHABETS[\"M32K25\"], action=\"show\")"
   ]
  },
  {
   "cell_type": "markdown",
   "id": "eca5cbb9",
   "metadata": {},
   "source": [
    "## shannon entropy analysis\n",
    "\n",
    "shannon entropy of the fragments gives an idea of sturctural flexibility that is complementary to cartesian analysis such as RMSF.\n",
    "Fragment entropy captures local changes regardless of magnitude of difference since the alphabets is based on internal coordinates."
   ]
  },
  {
   "cell_type": "code",
   "execution_count": null,
   "id": "54d44899-9bdf-477c-ae08-e7e038cbf1f6",
   "metadata": {
    "tags": []
   },
   "outputs": [],
   "source": [
    "# Compute the Shannon entropy\n",
    "print(\"Compute the Shannon entropy\")\n",
    "\n",
    "entropy_apo1 = sa_traj_apo1.compute_entropy()\n",
    "entropy_apo2 = sa_traj_apo2.compute_entropy()\n",
    "entropy_apo3 = sa_traj_apo3.compute_entropy()\n",
    "\n",
    "entropy_fbp1 = sa_traj_fbp1.compute_entropy()\n",
    "entropy_fbp2 = sa_traj_fbp2.compute_entropy()\n",
    "entropy_fbp3 = sa_traj_fbp3.compute_entropy()\n",
    "\n",
    "# Save entropy values\n",
    "save_array_to_txt(entropy_apo1, \"fbp1_SA_Shannon_entropy.txt\")\n",
    "save_array_to_txt(entropy_apo2, \"fbp2_SA_Shannon_entropy.txt\")\n",
    "save_array_to_txt(entropy_apo3, \"fbp3_SA_Shannon_entropy.txt\")\n",
    "\n",
    "save_array_to_txt(entropy_fbp1, \"fbp1_SA_Shannon_entropy.txt\")\n",
    "save_array_to_txt(entropy_fbp2, \"fbp2_SA_Shannon_entropy.txt\")\n",
    "save_array_to_txt(entropy_fbp3, \"fbp3_SA_Shannon_entropy.txt\")"
   ]
  },
  {
   "cell_type": "code",
   "execution_count": null,
   "id": "350f22d4-ca70-4ef6-9bd2-2954675aa119",
   "metadata": {
    "tags": []
   },
   "outputs": [],
   "source": [
    "# Plot the entropies of the apo state with their standard deviations\n",
    "Allohub_plots.plot_shannon_entropy_sd([entropy_apo1, entropy_apo2, entropy_apo3], action=\"show\", ylim=(0,4))\n"
   ]
  },
  {
   "cell_type": "code",
   "execution_count": null,
   "id": "b08467e9-e29a-455b-af76-a9a80c4e0cf1",
   "metadata": {
    "tags": []
   },
   "outputs": [],
   "source": [
    "# Plot the entropies of the FBP-bount state with their standard deviations\n",
    "Allohub_plots.plot_shannon_entropy_sd([entropy_fbp1, entropy_fbp2, entropy_fbp3], action=\"show\", ylim=(0,4))"
   ]
  },
  {
   "cell_type": "markdown",
   "id": "4276650f",
   "metadata": {},
   "source": [
    "Entropy differences can be spotted directly from this graphs. The PKM2 with FBP bound have lower entropy than the apo simulations, which highlights the stabilizing effects that FBP has on the structure and tetramer formation.\n",
    "\n",
    "The entropies can be averaged and substracted to more easily spot the differences.\n",
    "Then statistics can be run for each fragment. (to add)"
   ]
  },
  {
   "cell_type": "code",
   "execution_count": null,
   "id": "c84d2e0c-adb8-4d4f-a7cb-d4f2f1dc0030",
   "metadata": {
    "tags": []
   },
   "outputs": [],
   "source": [
    "# Compute the mean entropy per condition\n",
    "mean_apo = np.mean([np.array(entropy_apo1), np.array(entropy_apo2), np.array(entropy_apo3)], axis=0)\n",
    "\n",
    "mean_fbp = np.mean([np.array(entropy_fbp1), np.array(entropy_fbp2), np.array(entropy_fbp3)], axis=0)\n",
    "\n",
    "diff = mean_apo - mean_fbp\n",
    "\n",
    "# Plot the mean entropy\n",
    "Allohub_plots.plot_shannon_entropy(diff, ylim=(-1,2.5), action=\"save\", name=\"entropy_pkm2.svg\")"
   ]
  },
  {
   "cell_type": "code",
   "execution_count": null,
   "id": "f43322ac",
   "metadata": {},
   "outputs": [],
   "source": [
    "# Statistical analysis\n",
    "# first combine the replicates\n",
    "combined_apo = sa_traj_apo1.combine(sa_traj_apo2)\n",
    "combined_apo = combined_apo.combine(sa_traj_apo3)\n",
    "\n",
    "combined_fbp = sa_traj_fbp1.combine(sa_traj_fbp2)\n",
    "combined_fbp = combined_fbp.combine(sa_traj_fbp3)\n",
    "\n",
    "boots_entro_apo = combined_apo.compute_entropy(100)\n",
    "boots_entro_fbp = combined_fbp.compute_entropy(100)\n",
    "\n",
    "# Loop through each fragment\n",
    "p_values = []\n",
    "valid_Fragments = []\n",
    "\n",
    "for f in range(len(boots_entro_apo[0])):\n",
    "    apo_f = [x[f] for x in boots_entro_apo] # extract the fragment from each sample\n",
    "    fbp_f = [x[f] for x in boots_entro_fbp]\n",
    "\n",
    "    # Perform an independent two-sample t-test\n",
    "    _, p_value = ttest_ind(apo_f, fbp_f)\n",
    "    if not np.isnan(p_value):\n",
    "        p_values.append(p_value)\n",
    "        valid_Fragments.append(f)\n",
    "\n",
    "                \n",
    "# p-value adjustment\n",
    "rejected, adj_p_values, _, _ = multipletests(p_values, alpha=0.01, method='fdr_bh')\n",
    "\n",
    "for i in range(len(rejected)):\n",
    "    if rejected[i] and abs(diff[valid_Fragments[i]]) > 1:\n",
    "        print(f\"Fragment {valid_Fragments[i]} with entropy difference {diff[valid_Fragments[i]]}\")"
   ]
  },
  {
   "cell_type": "markdown",
   "id": "6db68848",
   "metadata": {},
   "source": [
    "The entropy analysis already highlights key regions of the protein.\n",
    "\n",
    "Positions around fragment 500 (protein position 513) are located at the allosteric FBP binding site.\n",
    "\n",
    "Positions around fragment 200 (protein position 213) are located at the lid domain that is on top of the active site and positions around 290 are located at the active site of PKM2.\n",
    "\n",
    "In the entropy plots, all of these positions are seen to be conformationally more stable in the FBP-bound state relative to the apo state, reflecting the known system feature that FBP stabilizes PKM2.\n"
   ]
  },
  {
   "cell_type": "markdown",
   "id": "87967435",
   "metadata": {},
   "source": [
    "## Mutual information analysis\n",
    "\n",
    "Next step is to compute the mutual information between each fragment pair.\n",
    "This step is computationally expensive and can last a few hours depending on the number of frames used as well as the size of the system.\n",
    "\n",
    "In this study we are using 2000 frames corresponding to the last 400 ns of a 500 ns MD trajectory, divided into blocks of 100, which corresponds to 20 ns per block."
   ]
  },
  {
   "cell_type": "code",
   "execution_count": null,
   "id": "b8d958b1-38ed-4ccc-b26e-b2e91e239885",
   "metadata": {},
   "outputs": [],
   "source": [
    "print(\"Calculate the MI information\")\n",
    "# One can specify the number of workers to parallelize the process. max_workers=None would use all available resources.\n",
    "\n",
    "mi_apo1 = sa_traj_apo1.compute_mis(max_workers=7)\n",
    "print(\"Apo 1 finished\")\n",
    "mi_apo2 = sa_traj_apo2.compute_mis(max_workers=7)\n",
    "print(\"Apo 2 finished\")\n",
    "mi_apo3 = sa_traj_apo3.compute_mis(max_workers=7)\n",
    "print(\"Apo 3 finished\")\n",
    "\n",
    "mi_fbp1 = sa_traj_fbp1.compute_mis(max_workers=7)\n",
    "print(\"FBP 1 finished\")\n",
    "mi_fbp2 = sa_traj_fbp2.compute_mis(max_workers=7)\n",
    "print(\"FBP 2 finished\")\n",
    "mi_fbp3 = sa_traj_fbp3.compute_mis(max_workers=7)\n",
    "print(\"FBP 3 finished\")"
   ]
  },
  {
   "cell_type": "markdown",
   "id": "7ad137cd",
   "metadata": {},
   "source": [
    "One can also visualize the MI matrices as follows:"
   ]
  },
  {
   "cell_type": "code",
   "execution_count": null,
   "id": "20f4d5a9-91b6-49c7-8dd6-3dd56a03dd49",
   "metadata": {
    "tags": []
   },
   "outputs": [],
   "source": [
    "# Plot the MI matrix for the first Block of Apo1\n",
    "Allohub_plots.plot_mi_matrix(mi_apo1[0].get_mi_matrix(), action=\"show\")"
   ]
  },
  {
   "cell_type": "code",
   "execution_count": null,
   "id": "2a6501d7-825b-4980-ac03-079f7a188a3b",
   "metadata": {},
   "outputs": [],
   "source": [
    "# Plot the MI matrix for the first Block of fbp1\n",
    "Allohub_plots.plot_mi_matrix(mi_fbp1[0].get_mi_matrix(), action=\"show\")"
   ]
  },
  {
   "cell_type": "markdown",
   "id": "e7f95631",
   "metadata": {},
   "source": [
    "## Eigenvector decomposition\n",
    "\n",
    "The eigenvector decomposition of the obtained MI matrices can be used to asses convergence.\n",
    "The main motions of well converged simulations should have relatively high eigenvector overlap (>0.3).\n",
    "\n",
    "Overlap between replicates can be leveraged to estimate the reliability of the results, with higher convergence suggesting higher confidence."
   ]
  },
  {
   "cell_type": "code",
   "execution_count": null,
   "id": "2074f046-137a-4099-9f59-a2148a94013f",
   "metadata": {},
   "outputs": [],
   "source": [
    "# Do an eigenvector decomposition of the matrices\n",
    "from tqdm import tqdm\n",
    "\n",
    "print(\"Perform an eigenvector decomposition of the matrices:\")\n",
    "\n",
    "for mi_tr in tqdm(mi_apo1, desc=\"Eigenvector decomposition for apo 1\", unit=\"matrix\"):\n",
    "    mi_tr.compute_eigensystem()\n",
    "for mi_tr in tqdm(mi_apo2, desc=\"Eigenvector decomposition for apo 2\", unit=\"matrix\"):\n",
    "    mi_tr.compute_eigensystem()\n",
    "for mi_tr in tqdm(mi_apo3, desc=\"Eigenvector decomposition for apo 3\", unit=\"matrix\"):\n",
    "    mi_tr.compute_eigensystem()\n",
    "\n",
    "  \n",
    "for mi_tr in tqdm(mi_fbp1, desc=\"Eigenvector decomposition for FBP 1\", unit=\"matrix\"):\n",
    "    mi_tr.compute_eigensystem()\n",
    "for mi_tr in tqdm(mi_fbp2, desc=\"Eigenvector decomposition for FBP 2\", unit=\"matrix\"):\n",
    "    mi_tr.compute_eigensystem()\n",
    "for mi_tr in tqdm(mi_fbp3, desc=\"Eigenvector decomposition for FBP 3\", unit=\"matrix\"):\n",
    "    mi_tr.compute_eigensystem()  "
   ]
  },
  {
   "cell_type": "markdown",
   "id": "aebf2bbf",
   "metadata": {},
   "source": [
    "## Overlap and convergence analysis\n",
    "\n",
    "Overlap can be now computed using the Overlap object.\n",
    "In this analysis we are using the top 3 eigenvectors which should explain most of the observed variability."
   ]
  },
  {
   "cell_type": "code",
   "execution_count": null,
   "id": "33dc9c3d-ee38-43a2-ade0-0959ea791efc",
   "metadata": {},
   "outputs": [],
   "source": [
    "# Create the overlap handler to compute similarities between the trajectories\n",
    "overlap = Overlap.Overlap([mi_apo1, mi_apo2, mi_apo3, mi_fbp1, mi_fbp2, mi_fbp3], ev_list=[0,1,2])\n",
    "# Compute the eigenvector overlap between trajectories\n",
    "overlap.fill_overlap_matrix()"
   ]
  },
  {
   "cell_type": "markdown",
   "id": "b1d5dff5",
   "metadata": {},
   "source": [
    "The results may now be plotted to visually examine convergence and between-simulation similarities."
   ]
  },
  {
   "cell_type": "code",
   "execution_count": null,
   "id": "8261d4d6-785e-4658-b312-9d415eec729c",
   "metadata": {},
   "outputs": [],
   "source": [
    "# plot the overlap matrix\n",
    "Allohub_plots.plot_overlap(overlap.get_overlap_matrix(), vmax=0.4, action=\"show\")"
   ]
  },
  {
   "cell_type": "markdown",
   "id": "1b12a070",
   "metadata": {},
   "source": [
    "The replicates corresponding to apo simulations have a higher overlap between each other than between conditions, indicating that the simulations were converged enough for further analysis. The higher the repeat overlap the higher the confidence in the results obtained.\n",
    "\n",
    "One can use the \"compute_similarities\" function to obtain a numerical value for the sum of the overlap of matrices belonging to the same simulation versus other simulations. This can be used to test if the similarity within conditions is higher than the similarity between conditions, which indicates that there is enough overall signal to perform further analyses."
   ]
  },
  {
   "cell_type": "code",
   "execution_count": null,
   "id": "cce77912-a707-4768-8ddf-f760eca206db",
   "metadata": {},
   "outputs": [],
   "source": [
    "# Compute similarities between overlap matrices\n",
    "similarity_matrix = overlap.compute_similarities()"
   ]
  },
  {
   "cell_type": "markdown",
   "id": "ce4e21d4",
   "metadata": {},
   "source": [
    "The overlap within and between trajectories can be grouped together to create representations such as a box plot and to compute statistics."
   ]
  },
  {
   "cell_type": "code",
   "execution_count": null,
   "id": "9222eb2c",
   "metadata": {},
   "outputs": [],
   "source": [
    "# Statistic significance of convergence\n",
    "# The groups are simulation 0,1,2 apo 3,4,5 fbp\n",
    "# The similarity_matrix contains the overlap between the indexed trajectories.\n",
    "within_conditions = [similarity_matrix[0][1], similarity_matrix[0][2], similarity_matrix[1][2], \n",
    "                     similarity_matrix[3][4], similarity_matrix[3][5], similarity_matrix[4][5]]\n",
    "\n",
    "between_conditions = [similarity_matrix[0][3], similarity_matrix[0][4], similarity_matrix[0][5], \n",
    "                      similarity_matrix[1][3], similarity_matrix[1][4], similarity_matrix[1][5],\n",
    "                      similarity_matrix[2][3], similarity_matrix[2][4], similarity_matrix[2][5]]\n",
    "\n",
    "tat, p_value = ttest_ind(within_conditions, between_conditions, equal_var=False, alternative='greater')\n",
    "\n",
    "print(f\"p-value of convergence within vs between conditions is {p_value}\")"
   ]
  },
  {
   "cell_type": "markdown",
   "id": "4fc83ec4",
   "metadata": {},
   "source": [
    "The obtained p-value indicates that the convergence within replicates is signicantly different than the convergence between conditions, meaning that the analysis captured unique signal for this system.\n",
    "\n",
    "## Up and down regulated fragments\n",
    "\n",
    "The next step is to find up and down regulated fragments.\n",
    "For that, one needs the mapping of trajectories, that is to which condition each simulation belongs. \n",
    "\n",
    "The next step is to find up- and down-regulated fragments.\n",
    "That is achieved by a statistical contrast between simulated system states, here the apo (0) and FBP-bound (1) state of NtrC.\n",
    "\n",
    "The function argument *splitting* controls whether the statistics should be computed using the mean MI matrix per replicate (*splitting = False*) or using all the mi matrices (splitting = True).\n",
    "\n",
    "Using all MI matrices will show more coupled fragments, but also produce more false positives unless the background noise and potential batch effects are finely controlled.\n",
    "\n",
    "For this analysis we will use all MI matrices."
   ]
  },
  {
   "cell_type": "code",
   "execution_count": null,
   "id": "89959004-22d1-4e7f-890c-5293f5b73ec1",
   "metadata": {},
   "outputs": [],
   "source": [
    "# Find upregulated and downregulated fragments\n",
    "print(\"Find upregulated and downregulated fragments\")\n",
    "\n",
    "# The fold change of non correlated points would produce a division by zero runtime warning this warnings can be silenced as following:\n",
    "import warnings\n",
    "warnings.filterwarnings(\"ignore\", category=RuntimeWarning)\n",
    "\n",
    "updown_regulated_fragments = overlap.updown_regulation(traj_mapping=[0,0,0,1,1,1],splitting=True)\n",
    "\n",
    "# The obtained dictionary has as keys the pairs of conditions. In this case (0,1).\n",
    "# If more conditions were used one would have all the additional pairing (0,1), (0,2), (1,2) ....\n",
    "t12_updown = updown_regulated_fragments[(0,1)]"
   ]
  },
  {
   "cell_type": "markdown",
   "id": "7eb996b7",
   "metadata": {},
   "source": [
    "Now we can filter the up- and down-regulated fragments based on p-value and fold change."
   ]
  },
  {
   "cell_type": "code",
   "execution_count": null,
   "id": "67c6ff15-b13f-4cee-b284-511acc51c902",
   "metadata": {},
   "outputs": [],
   "source": [
    "# Filtering parameters\n",
    "pval_threshold = 0.01\n",
    "fold_change_threshold = 5\n",
    "\n",
    "# First extract significant fragments\n",
    "significant_fragments = t12_updown[t12_updown['AdjustedPValues'] < pval_threshold]\n",
    "\n",
    "# Second, filter by fold change and print top 25\n",
    "up_reg = significant_fragments[significant_fragments['log2FoldChange'] > fold_change_threshold].sort_values('log2FoldChange', ascending=False)\n",
    "up_reg.head(25)"
   ]
  },
  {
   "cell_type": "code",
   "execution_count": null,
   "id": "99d255cf-c575-4b55-83e2-4ecabc709be7",
   "metadata": {},
   "outputs": [],
   "source": [
    "# Show top 25 Down-regulated fragments\n",
    "down_reg = significant_fragments[significant_fragments['log2FoldChange'] < -fold_change_threshold].sort_values('log2FoldChange')\n",
    "down_reg.head(25)\n"
   ]
  },
  {
   "cell_type": "code",
   "execution_count": null,
   "id": "14de3e90",
   "metadata": {},
   "outputs": [],
   "source": [
    "# Most frequent fragments\n",
    "top_fragments_count = {}\n",
    "\n",
    "for fragment_pair in up_reg[\"FragmentPairs\"]:\n",
    "    top_fragments_count.setdefault(fragment_pair[0], 0) # record first fragment of the pair\n",
    "    top_fragments_count.setdefault(fragment_pair[1], 0) # record second fragment of the pair\n",
    "    top_fragments_count[fragment_pair[0]] += 1\n",
    "    top_fragments_count[fragment_pair[1]] += 1\n",
    "\n",
    "for fragment_pair in down_reg[\"FragmentPairs\"]:\n",
    "    top_fragments_count.setdefault(fragment_pair[0], 0) # record first fragment of the pair\n",
    "    top_fragments_count.setdefault(fragment_pair[1], 0) # record second fragment of the pair\n",
    "    top_fragments_count[fragment_pair[0]] += 1\n",
    "    top_fragments_count[fragment_pair[1]] += 1\n",
    "\n",
    "# sort based on counts\n",
    "top_fragments_count = dict(sorted(top_fragments_count.items(), key=lambda item: item[1], reverse=True))\n",
    "\n",
    "# Print top 30 most appearing fragments\n",
    "dict_keys = list(top_fragments_count.keys())\n",
    "for i in range(25):\n",
    "    frag = dict_keys[i]\n",
    "    print(f\"Fragment {frag} appears {top_fragments_count[frag]} times.\")\n"
   ]
  },
  {
   "cell_type": "markdown",
   "id": "a506730a",
   "metadata": {},
   "source": [
    "One can also create a volcano plot for the data"
   ]
  },
  {
   "cell_type": "code",
   "execution_count": null,
   "id": "3f7151c4-241b-4db7-b08d-701224786987",
   "metadata": {},
   "outputs": [],
   "source": [
    "# Plot volcano plot of Up and Down regulated fragments\n",
    "Allohub_plots.plot_updownregulation(t12_updown,  fold_threshold=fold_change_threshold, ylim=60, pvalue_threshold=pval_threshold, action=\"show\")"
   ]
  },
  {
   "cell_type": "markdown",
   "id": "7127f928",
   "metadata": {},
   "source": [
    "## Fragment mapping\n",
    "\n",
    "Mapping the fragments back to the protein reveals the following:\n",
    "\n",
    "Fragment 499, 501, 504 and 509 are located on the bidning site of the allosteric modulator (FBP). These fragments consistently appears on the top hits. (Color Green)\n",
    "\n",
    "Fragments 232, 258, 198, 191, 164, 287, 163 and 108  are located on the active site and active lid of the protein. (Colored Red)\n",
    "\n",
    "Fragment 488 and 439 are located on the second allosteric site, where aminoacids such as Phe ans Ser bind to modulate the funciton of PKM2. (Colored Purple)\n",
    "\n",
    "Fragments 348, 417 are between the active site and FBP allosteric site, directly interacting with them the active site, interacting with residues involved in the active site cavity. (Colored Orange)\n",
    "\n",
    "Fragments 327 is located at a direct interface between the monomers. (Colored cyan)\n",
    "\n",
    "![PKM2](data_pkm2/pkm2.png)"
   ]
  },
  {
   "cell_type": "markdown",
   "id": "6d6be6d8",
   "metadata": {},
   "source": [
    "## Graph representation of correlated local motions\n",
    "\n",
    "Finally, one can create a graph representation using the mutual information signal as weights.\n",
    "\n",
    "For that a distance matrix between C alpha carbons is necessary (in Angstroms).\n",
    "\n",
    "One can calculate such matrix with mdtraj.\n",
    "The size of the encoded fragments is also necessary, 4 in the case of M32k25 and 1 in the case of the 3DI alphabet"
   ]
  },
  {
   "cell_type": "code",
   "execution_count": null,
   "id": "acfac311",
   "metadata": {},
   "outputs": [],
   "source": [
    "# Compute distances between c alphas from a pdb\n",
    "import mdtraj as md\n",
    "\n",
    "# Load trajectory\n",
    "traj = md.load(\"data_pkm2/pkm2_monomer.pdb\")\n",
    "\n",
    "# Select only the C-alpha atoms\n",
    "ca_indices = traj.topology.select('name CA')\n",
    "\n",
    "\n",
    "# Extract the coordinates of C-alpha atoms\n",
    "ca_positions = traj.xyz[0][ca_indices]\n",
    "\n",
    "# Compute the pairwise distance matrix\n",
    "distance_matrix = np.linalg.norm(ca_positions[:, np.newaxis, :] - ca_positions[np.newaxis, :, :], axis=-1)\n",
    "\n",
    "# Convert to angstroms\n",
    "distance_matrix *= 10"
   ]
  },
  {
   "cell_type": "code",
   "execution_count": null,
   "id": "b8a5c819",
   "metadata": {},
   "outputs": [],
   "source": [
    "# Create the Structural alphabet network\n",
    "# Create graph representations for all states based on the defined mapping\n",
    "# traj_list should be a list of trajectories. Here we are using the combined Mi matrices for all simulations\n",
    "# Distance limit is the maximum distance (in Angstroms) between the c alpha of each member to be considered in contact. \n",
    "# 7 is the recommended value for the M32k25 alphabet\n",
    "import importlib\n",
    "importlib.reload(SANetwork)\n",
    "# We are interested in the signal transmition of FBP so we will create the graph for the FBP conditions only\n",
    "SAgraph_fbp = SANetwork.SANetWork(traj_list= mi_fbp1 +  mi_fbp2 + mi_fbp3, distance_limit=7)\n",
    "\n",
    "# Load the distances. The fragment size for M32k25 is 4.\n",
    "SAgraph_fbp.set_distance_matrix(matrix=distance_matrix, fragment_size=4)\n",
    "\n",
    "# The pval_threshold filters coupled pairs with low significance\n",
    "SAgraph_fbp.create_graph(threshold=90)\n",
    "\n",
    "# Compute eigenvector centrality to find rellevant nodes\n",
    "centrality_fbp_df = SAgraph_fbp.compute_centrality()\n",
    "\n",
    "# Sort values and print top 5\n",
    "centrality_fbp_df.sort_values(\"Centrality\", ascending=False).head(5)\n"
   ]
  },
  {
   "cell_type": "markdown",
   "id": "5ab1031e",
   "metadata": {},
   "source": [
    "Fragments with high eigenvector centrality represent localized focuses of correlation in the system.\n",
    "\n",
    "From the top 5 fragments, 439 is located in the second allosteric site where modulator aminoacids bind, 404 is located in the interface between monomers, 191 is located in the lid and interacts with the active site and 501 is located in the FBP binding site.\n",
    "\n",
    "Fragment 224 in the other hand is located midway in the protein, highlighting an interesting position to further examinate. nterestingly, a mutation 4 aminoacids away of this position has been reported to decrease FBP activation without drastically changing tetramer formation."
   ]
  },
  {
   "cell_type": "code",
   "execution_count": null,
   "id": "f21e7174",
   "metadata": {},
   "outputs": [],
   "source": [
    "# Plot the Centrality values\n",
    "Allohub_plots.plot_network_centrality(centrality_fbp_df, action=\"show\")"
   ]
  },
  {
   "cell_type": "markdown",
   "id": "ad47a1ff",
   "metadata": {},
   "source": [
    "The more connected nodes may be relevant for signal transmition inside the protein.\n",
    "One can extract the graph using SAgraph_fbp.get_graph()\n",
    "This will return a default networkx object with all nodes and edges. This can then be used on other applications that work with graphs. \n",
    "\n",
    "One can also create a subgraph containing only the shortest path between residues of interest.\n",
    "For this study we will search for conections from fragments 476, 509 (located in the FBP bidning site) to the active site fragments 260, 281"
   ]
  },
  {
   "cell_type": "code",
   "execution_count": null,
   "id": "35c0fb9c",
   "metadata": {},
   "outputs": [],
   "source": [
    "fbp_site_fragments = [476, 509] \n",
    "active_site_fragments = [260, 281]\n",
    "\n",
    "# Subgraph is a networkx object with the nodes and edges of the shortest paths connecting those residues\n",
    "# Shortest_pathd ans shortest_distances are list of the shortest paths and their distances respectively.\n",
    "# z_score provides an estimate of how statistically coupled the two sites are\n",
    "subgraph, shortest_paths, shortest_distances, z_score = SAgraph_fbp.identify_preferential_connections(start_fragments=fbp_site_fragments,\n",
    "                                                                                                       end_fragments=active_site_fragments)"
   ]
  },
  {
   "cell_type": "markdown",
   "id": "ab76c3ee",
   "metadata": {},
   "source": [
    "The graphs can also be plotted. The Edges will be proportional to the weights of the connections, the starting fragments will be highlighted in Blue,\n",
    "the ending residues in red and the intermidiate residues in green."
   ]
  },
  {
   "cell_type": "code",
   "execution_count": null,
   "id": "3172ac7e",
   "metadata": {},
   "outputs": [],
   "source": [
    "# Create representation of the graph\n",
    "Allohub_plots.plot_SA_graph(subgraph, fbp_site_fragments, active_site_fragments, action=\"show\")"
   ]
  },
  {
   "cell_type": "markdown",
   "id": "2e7e0639",
   "metadata": {},
   "source": [
    "One can also perform the same analysis but for the Apo state to find if those connections are also present in the inactive state."
   ]
  },
  {
   "cell_type": "code",
   "execution_count": null,
   "id": "a63c4b15",
   "metadata": {},
   "outputs": [],
   "source": [
    "# Create the Structural alphabet network\n",
    "# We are interested in the signal transmition of apo so we will create the graph for the apo conditions only\n",
    "SAgraph_apo = SANetwork.SANetWork(traj_list= mi_apo1 +  mi_apo2 + mi_apo3, distance_limit=7)\n",
    "\n",
    "# Load the distances. The fragment size for M32k25 is 4.\n",
    "SAgraph_apo.set_distance_matrix(matrix=distance_matrix, fragment_size=4)\n",
    "\n",
    "# The pval_threshold filters coupled pairs with low significance\n",
    "SAgraph_apo.create_graph(threshold=90)\n",
    "\n",
    "# Compute eigenvector centrality to find rellevant nodes\n",
    "centrality_apo_df = SAgraph_apo.compute_centrality()\n",
    "\n",
    "# Sort values and print top 5\n",
    "centrality_apo_df.sort_values(\"Centrality\", ascending=False).head(5)"
   ]
  },
  {
   "cell_type": "code",
   "execution_count": null,
   "id": "98511680",
   "metadata": {},
   "outputs": [],
   "source": [
    "fbp_site_fragments = [476, 509] \n",
    "active_site_fragments = [260, 281]\n",
    "\n",
    "# Subgraph is a networkx object with the nodes and edges of the shortest paths connecting those residues\n",
    "# Shortest_pathd ans shortest_distances are list of the shortest paths and their distances respectively.\n",
    "# z_score provides an estimate of how statistically coupled the two sites are\n",
    "subgraph, shortest_paths, shortest_distances, z_score = SAgraph_apo.identify_preferential_connections(start_fragments=fbp_site_fragments,\n",
    "                                                                                                       end_fragments=active_site_fragments)"
   ]
  },
  {
   "cell_type": "code",
   "execution_count": null,
   "id": "5186cc0e",
   "metadata": {},
   "outputs": [],
   "source": [
    "# Create representation of the graph\n",
    "Allohub_plots.plot_SA_graph(subgraph, fbp_site_fragments, active_site_fragments, action=\"show\")"
   ]
  },
  {
   "cell_type": "markdown",
   "id": "94ad7ffd",
   "metadata": {},
   "source": [
    "The obtained subgraph can be used to find signaling path of interest. For example, the previous subgraph detected a conection that goes through fragment 476 and 312. Two fragments that map to residues that were previoulsy reported to affect the allosteric modulation of PKM2 when mutated (A327 and R489).\n",
    "\n",
    "Similar path can be found for the apo state although the FBP site and the active site appear less connected.\n",
    "\n",
    "## Using PLMs to gain insights in the residues of the fragments of interest\n",
    "\n",
    "To find which residues may have the highest weight given the fragment one can use a Protein Language Model to extract the likelihood of the residues.\n",
    "Residues with a higher likelihood are more likely to be important for the protein.\n",
    "\n",
    "In this case we will extract the likelihoods for the residues of fragments 312, 476 and 501."
   ]
  },
  {
   "cell_type": "code",
   "execution_count": null,
   "id": "e55e5709",
   "metadata": {},
   "outputs": [],
   "source": [
    "# The sequence should match the one used in the simulations\n",
    "traj = md.load(\"data_pkm2/pkm2_monomer.pdb\")\n",
    "\n",
    "# Create a subset trajectory containing only the protein\n",
    "protein_traj = traj.atom_slice(traj.topology.select(\"protein\"))\n",
    "\n",
    "pkm2_sequence = ''.join([str(residue.code) for residue in protein_traj.topology.residues])\n",
    "\n",
    "\n",
    "# Create the PLM handler. The fragment size for alphabet M32k25 is 4\n",
    "esm_handler = SAPLM.SAPLM(fragment_size = 4)\n",
    "esm_handler.set_sequence(pkm2_sequence)\n",
    "\n",
    "# Extract likelihoods for fragment 314, 476, 501\n",
    "likelihood_314_df = esm_handler.fragment_likelihoods(fragment=312, offset=12)\n",
    "print(likelihood_314_df)\n",
    "\n",
    "likelihood_476_df = esm_handler.fragment_likelihoods(fragment=476, offset=12)\n",
    "print(likelihood_476_df)\n",
    "\n",
    "likelihood_501_df = esm_handler.fragment_likelihoods(fragment=501, offset=12)\n",
    "print(likelihood_501_df)\n"
   ]
  },
  {
   "cell_type": "markdown",
   "id": "cbe1cfaf",
   "metadata": {},
   "source": [
    "For fragment 312 most of the surrounding aminoacids appear to be equally important. For the case of fragment 476, the most predominant residue seems to be R489, correctly matching the residue that was reported to be key for the activation of PKM2 by FBP, which when mutated to Leucine produce an inhibition of the effects of FBP and whose inhibitori effect is compensated when Phe is present in the second allosteric pocket.\n",
    "Finally, fragment 501 seems to point to residue G514 as the most important."
   ]
  }
 ],
 "metadata": {
  "kernelspec": {
   "display_name": "ProteinAnal",
   "language": "python",
   "name": "python3"
  },
  "language_info": {
   "codemirror_mode": {
    "name": "ipython",
    "version": 3
   },
   "file_extension": ".py",
   "mimetype": "text/x-python",
   "name": "python",
   "nbconvert_exporter": "python",
   "pygments_lexer": "ipython3",
   "version": "3.11.5"
  }
 },
 "nbformat": 4,
 "nbformat_minor": 5
}
